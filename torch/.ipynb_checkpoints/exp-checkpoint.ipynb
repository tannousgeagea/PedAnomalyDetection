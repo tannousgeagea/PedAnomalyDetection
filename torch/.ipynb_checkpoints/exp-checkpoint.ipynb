{
 "cells": [
  {
   "cell_type": "code",
   "execution_count": 1,
   "id": "66a2e5bd-44ad-443b-974c-2cfb7fe7f3f5",
   "metadata": {},
   "outputs": [],
   "source": [
    "from main import train"
   ]
  },
  {
   "cell_type": "code",
   "execution_count": null,
   "id": "ddf2b3e3-5afa-4509-b5fd-3002a6fd11bf",
   "metadata": {},
   "outputs": [],
   "source": [
    "train(modelName='ntl', source='../datasets/dataset_speed_change/', batch_size=8, \n",
    "      lr=0.0001, epochs=10, config_file='NeuTraLAD/config/config-002.yml', \n",
    "      radius=0.2, lamda=1, optim_idx=0)"
   ]
  }
 ],
 "metadata": {
  "kernelspec": {
   "display_name": "Python 3 (ipykernel)",
   "language": "python",
   "name": "python3"
  },
  "language_info": {
   "codemirror_mode": {
    "name": "ipython",
    "version": 3
   },
   "file_extension": ".py",
   "mimetype": "text/x-python",
   "name": "python",
   "nbconvert_exporter": "python",
   "pygments_lexer": "ipython3",
   "version": "3.9.12"
  }
 },
 "nbformat": 4,
 "nbformat_minor": 5
}
